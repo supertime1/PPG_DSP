{
  "nbformat": 4,
  "nbformat_minor": 0,
  "metadata": {
    "colab": {
      "name": "Verily_Interview_preparation.ipynb",
      "provenance": [],
      "collapsed_sections": [],
      "authorship_tag": "ABX9TyPpKv1rGfsFjNjIYpUdSJNj",
      "include_colab_link": true
    },
    "kernelspec": {
      "name": "python3",
      "display_name": "Python 3"
    }
  },
  "cells": [
    {
      "cell_type": "markdown",
      "metadata": {
        "id": "view-in-github",
        "colab_type": "text"
      },
      "source": [
        "<a href=\"https://colab.research.google.com/github/supertime1/PPG_DSP/blob/main/Verily_Interview_preparation.ipynb\" target=\"_parent\"><img src=\"https://colab.research.google.com/assets/colab-badge.svg\" alt=\"Open In Colab\"/></a>"
      ]
    },
    {
      "cell_type": "markdown",
      "metadata": {
        "id": "GrXtbreSqz1r"
      },
      "source": [
        "##1.DSP"
      ]
    },
    {
      "cell_type": "markdown",
      "metadata": {
        "id": "eCHzLO7kqDkZ"
      },
      "source": [
        "\n",
        "1. Real part and imaginary part of fft\n",
        "\n",
        "2. FFT plot\n",
        "\n",
        "        #import numpy as np\n",
        "        fft_real = abs(np.fft.rfft(ps2, 512))\n",
        "        fft_req = np.fft.rfftfreq(512)\n",
        "\n",
        "*   DFT can only be performed with finite length with discrete data; \n",
        "    without using window, repeat signals cannot be well represented in amplitude function\n",
        "*   zero-padding is added to the end of orignal signal to keep the windowing in a constant length\n",
        "\n",
        "3. what is energy and power in signal \n",
        "    a. energy: the area under the curve (e.g. fft spectrum area)\n",
        "    b. power: the y axis (e.g. fft rms)\n",
        "\n",
        "\n",
        "3. IIR FIR?\n",
        "        *   IIR is faster because lower order is needed to achieve same sharp level of slope, but less stable \n",
        "        *   While all fitlers cause time delays to original signal (the sharper the filter, the longer the delay), FIR has a constant time delay to orginal signal, while IIR has different time delay at different frequency (largest in cut-off frequency)\n",
        "        *   Time delay can be removed by zero-phase filtering (pass signal to filter forward and backward), but at the cost of doubled computation and more attenuation\n",
        "        *   Most common Types:\n",
        "       \n",
        "            *   butterworth (only in IIR) has a wide transition width (less sharp slope) so the time delay is minimized\n",
        "            *   hanning in FIR, narrowest transition band\n",
        "\n",
        "\n",
        "4. Explain Hample filter?\n",
        "        a. use meadian absolute deviation to find the outlier\n",
        "5. Nyquest rate vs Nyquest frequency\n",
        "        *   Nyquest rate: 2 x sampling frequency, the minimum frequency that is needed to fully represent the signal in frequency domain\n",
        "        *   Nyquest frequency: 0.5 x sampling frequency, the maximum frequency (bandwidth) in FFT plot \n",
        "\n",
        "\n",
        "7. In general, DSP interview question\n",
        "8. Autopower vs Power Spectral Density (PSD)\n",
        "        *   Autopower: use for sinuous signal (sine wave)\n",
        "        *   PSD: use for random signal by normalizing the autopower by sampling frequency\n",
        "\n",
        "9. How to calculate RMS?\n",
        "        *   Use RMS for FFT (sine wave) to represent the equvalent stedady state energy level (better than the average amplitude, which is zero for sina wave)\n",
        "        *   If windows is applied, choose 1.63 (hanning) with amplitude of each frequecy for energy correction when calculating RMS\n",
        "\n",
        "10. why hanning window in FFT: good balance between frequency resolution and amplitude accuracy\n",
        "\n",
        "\n",
        "\n"
      ]
    },
    {
      "cell_type": "markdown",
      "metadata": {
        "id": "lSfOv1-Mqurl"
      },
      "source": [
        "##2.Machine Learning"
      ]
    },
    {
      "cell_type": "markdown",
      "metadata": {
        "id": "StQwqp9B5YG2"
      },
      "source": [
        "1. Data \n",
        "\n",
        "*   Missing data: imputation (mean, regression) dropping\n",
        "*   Medical data challenge: not enough labeled data, label accuracy, label representation (may need to collect from different demographics)\n",
        "\n",
        "2. Algorithm:\n",
        "\n",
        "*   SVM:\n",
        "        a. primal and dual form (The dual problem is faster to solve than the primal one when the number of training instances is smaller than the number of features); dual form also makes kernel trick possible\n",
        "\n",
        "        b. output of an SVM classifier is the distance to the decision boundary, but this socre can be turned into probablity by fitting it into a logistic regression model\n",
        "        c. kernel applications: use matrix multipication to transform the low dimensional features into higher dimensional space, instead of to transform each sample's feature one by one. This reduces the computation complexity from O(n**2) to O(n). It allows the SVM to run algorithm in high dimensional space efficiently\n",
        "*   KNN and K-Means:\n",
        "\n",
        "\n",
        "    *   A large value of K in KNN can lead underfit and a small value of K can lead to overfit\n",
        "    *   To choose K in K-means, \n",
        "        use elbow method (calculate the Within-Sum-SquaredError): plot WSS vs k, and choose the k that WSS starts to diminish; \n",
        "        or find the biggest Silhouette score: (b-a)/max(a,b) where a is mean intra-cluster distance and b is the mean nearest-cluster distance \n",
        "\n",
        "*   Decision tree: \n",
        "\n",
        "    *   Gini Impurity = 1 - sum(p_i_k), where p_i_k is the ratio of class k instances among the training instances in the i-th node; Gini impurity is 0 if all instance belongs to one class\n",
        "\n",
        "    *   Entropy: sum((p_i_k)*log(p_i_k))\n",
        "    \n",
        "    *   How to find optimal threshold and feature: sort each feature by its value (n times) and try the midpoint of every two values in a feature (m times) as threhold; \n",
        "    *   training: O(n x m x log(m)), prediction: O(log(m)), where **m** is number of instances and **n** is number of features \n",
        "    *   Reduce the **max_depth** or increase the **min_samples_leaf** to regularize the model by reducing the overfitting (low bias and high variance)\n",
        "\n",
        "\n",
        "*   Randomforest: bootstrap, bagging (reduce variance), pasting, boosting,  stacking, extra-tree (random selecting the threshold, faster in training but same in making prediction as Randomforest)\n",
        "*   Adaboost (train next estimator by increasing the misclassified samples from previous estimator), GradBoost (train next estimator by using the residual error from previous estimator) XGBoost\n",
        "\n",
        "3. Bias vs. Variance\n",
        "\n",
        "*   Regularization techniques: l1 and l2, Elastic Net\n",
        "\n",
        "4. Others:\n",
        "\n",
        "\n",
        "*   curse of dimensionality: the vector of samples are sparse, cause overfitting\n",
        "\n",
        "\n",
        "\n",
        "*   PCA and t-SNE\n",
        "\n",
        "        *   PCA: \n",
        "        a. Calculate the eigenvectors by singular vector decomposition(SVD) and select the eigenvectors with largest eigenvalues; \n",
        "        b. can train a small regression model to recover from PCA to orignial image\n",
        "        c. Vanilla PCA; incremental PCA; random PCA; kernel PCA;\n",
        "        d. PCA is fast that means it can be chained with other dimension reduction algorithm to reduce the dimension fast;\n",
        "        *   t-SNE: compute the similarity of features in high dimensional space called H, and compute the similarity of mapped features in a lower dimensional space called L, \n",
        "        use gradient descent to find the smallest value of H/L\n",
        "\n",
        "\n",
        "*   Clustering algorithm: \n",
        "        a. K-means, DBSCAN (for every instance scan its nearby points with a defined range, this forms a core; if no points nearby, this is anormly data)\n",
        "        b. Application: dimension reduction; semi-supervised learning; anormaly detection (trained on data with ourliers); novelty detection (trained on clean data); segmentations;\n",
        "        c. label probagation (part of semi-supervised learning)\n",
        "        d. active learning (e.g. uncertainty sampling: train a model on a labeled dataset, then use human expert to label unlabeled data with lowest confidence given by the model)\n",
        " \n",
        "\n",
        "\n",
        "*   How to compute confidence score in classification tasks?\n",
        "\n",
        "\n",
        "      *  interval = z * sqrt( (error * (1 - error)) / n)\n",
        "      n is the number of samples; z is the number of standard deviation from normal distribution;\n",
        "\n",
        "\n",
        "*   Bayes' Theorem; Naive Bayes classifier;\n",
        "    1. Assumption: feature is independent; feature importance is equal\n",
        "    2. https://towardsdatascience.com/naive-bayes-classifier-81d512f50a7c\n",
        "    3. P(A|B) x P(B)  = P(B|A) x P(A)\n",
        "\n",
        "\n",
        "*   Generative model vs discriminative model\n",
        "\n",
        "  https://www.quora.com/What-is-a-generative-algorithm\n",
        "\n",
        "5. Data types: csv vs JSON vs XML (tree-like structure with for key-value paris, and it is more verbose and bigger than csv)\n",
        "\n",
        "\n",
        "6. Logistic regression model equation\n",
        "\n",
        "7. Autoregression model: x(t+1) = b + b1 x(t-1) + b2 x(t-2);\n",
        "8. ARIMA model (https://www.machinelearningplus.com/time-series/arima-model-time-series-forecasting-python/#:~:text=So%20what%20exactly%20is%20an,used%20to%20forecast%20future%20values.)\n",
        "\n",
        "    Predicted Yt = Constant + Linear combination Lags of Y (upto p lags) + Linear Combination of Lagged forecast errors (upto q lags)\n",
        "\n",
        "\n",
        "\n",
        "\n",
        "\n",
        "\n",
        "\n",
        "\n"
      ]
    },
    {
      "cell_type": "markdown",
      "metadata": {
        "id": "P8FaQNuJq6-b"
      },
      "source": [
        "##3.Deep Learning"
      ]
    },
    {
      "cell_type": "markdown",
      "metadata": {
        "id": "3xCSem3J5ExY"
      },
      "source": [
        "1. Why don't use LSTM/RNN/GRU:\n",
        "\n",
        "*   Very long gradient path: vanishing gradient problem (gradient clipping); why use tanh in RNN instead of Relu (fight against gradient and output exploding)\n",
        "*   RNN is hard to deal with long term dependency, LSTM and GRU can help but with limitation\n",
        "\n",
        "\n",
        "\n",
        "\n",
        "\n",
        "\n",
        "2. Optimizers:\n",
        "\n",
        "\n",
        "*   batch GD, SGD, mini-batch GD (all about how many training instances are used to calculate the gradient)\n",
        "*   Momentum: add a history of previous weight update\n",
        "*   Nesterov trick: add beta*momentum in cost function J(theta), by calculating the gradient in (current location + momentum direction), assuming the momentum direction in general is pointing to global minimal\n",
        "*   AdaGrad: scale down the gradient vector of the steepest dimension\n",
        "*   RMSProp: add a beta parameter to AdaGrad, to prevent scaling down too fast\n",
        "*   Adam: Adaptive + Momentum -> combining RMSProp with momentum\n",
        "*   NAdam: Adam with Nesterov trick\n",
        "\n",
        "3. Activation functions:\n",
        "\n",
        "*   Sigmoid, tanh\n",
        "*   ReLu and Leaky-ReLu: ReLu is used to solve the vanishing gradient problem in Sigmoid and tanh; however, it always outputs 0 when input is negative, causing a vanishing gradient (gradient is infinitely small, 0 in this case) and also a dying neurons (output is constant (doesn't matter if it is 0 or not) and there is no way to change it since the gradient is 0); leaky-ReLu is designed to solve the dying neurons problem\n",
        "*   ELU: a better version of Leaky-Relu since the gradient around 0 is smoother\n",
        "*   SELU: scaled-ELU, use it when:\n",
        "    *   Layers are in sequence (no skip connection, no RNN)\n",
        "    *   Weights needs to be initialized with LeCunn initialization\n",
        "    *   Best to use it in Dense layer, may be helpful in CNN\n",
        "    *   Input features needs to be normalized with mean 0 and std 1\n",
        "\n",
        "4. Vanishing/Exploding gradient:\n",
        "*   https://ayearofai.com/rohan-4-the-vanishing-gradient-problem-ec68f76ffb9b\n",
        "\n",
        "\n",
        "2. CNN: \n",
        "        a.(W+2K-P)/S\n",
        "        b. Layer normalization (in RNN, normalize along the feature axis) vs batch normalization vs local response normalization (normalize a small local region across features)\n",
        "        c. depthwise convolution: almost half of the computation but less parameters to work with; (i.e. faster and less accurate)\n",
        "        d. full convolutional layer: replace the full connected layer by a CNN, so that if the input image size is bigger, the output is bigger meaning YOLO.\n",
        "        \n",
        "3. RNN:\n",
        "        a. input dimension: (batch size, time steps, feature dimensions)\n",
        "            output: (batch size, time steps, number of neurons)\n",
        "        b. stateful RNN: use the state from previous training iteration for the next one\n",
        "        c. for automatic translation, plain sequence-to-sequence RNN translates one by one, whereas encoder-deconder RNN 'see' the sentence as a whole then process it\n",
        "        d. use padding to handle variable-length input, and use end-of-sequence token to handle variable-length output\n",
        "4. LSTM: input gate, output gate, cell state, forget gate\n",
        "\n",
        "5. GRU: reset gate, update gate\n",
        "\n",
        "6. Attention: \n",
        "        a. dot-product attention (including self-attention); concatenate attention; \n",
        "        b. in decoder time, the current decoder state and the full output of the encoder are processed by an alignment model that outputs an alignment score for each input time step. The score indicates which part of the input is most relevant to the current decoder time step. "
      ]
    },
    {
      "cell_type": "markdown",
      "metadata": {
        "id": "BUFmzdP5Wgzm"
      },
      "source": [
        "###NLP"
      ]
    },
    {
      "cell_type": "markdown",
      "metadata": {
        "id": "31ml5-RjWk28"
      },
      "source": [
        "\r\n",
        "\r\n",
        "*   Tokenization method:\r\n",
        "\r\n",
        "\r\n",
        "> \r\n",
        "\r\n",
        "\r\n",
        "![image.png](data:image/png;base64,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)\r\n",
        "\r\n"
      ]
    },
    {
      "cell_type": "markdown",
      "metadata": {
        "id": "cqkIDnfoc4gz"
      },
      "source": [
        "\r\n",
        "\r\n",
        "*   AdamW in BERT\r\n",
        "\r\n"
      ]
    },
    {
      "cell_type": "markdown",
      "metadata": {
        "id": "dO7jehlNq813"
      },
      "source": [
        "##4.Projects"
      ]
    },
    {
      "cell_type": "markdown",
      "metadata": {
        "id": "AbHeLrfFsA_x"
      },
      "source": [
        "###PPG"
      ]
    },
    {
      "cell_type": "markdown",
      "metadata": {
        "id": "cRW--pr9rQFa"
      },
      "source": [
        "1. Why PPG in ear: advantages and disadvantages?\n",
        "\n",
        "  *   Adv: \n",
        "        \n",
        "            *   less motion artefacts from arm movement; \n",
        "            *   Optimal vascular structure for BP (arterioles): resistance vessels: pressure = force / area;\n",
        "            *   fixed distance from heart;\n",
        "            *   highest blood perfusion (volume of blood per unit time (blood flow) per unit tissue mass);\n",
        "            *   most metrics in one spot (HR, temperature...)\n",
        "             \n",
        "  *   Dis: \n",
        "  \n",
        "            *   micro motion\n",
        "            *   limited space\n",
        "\n",
        "\n",
        "\n",
        "2. Perfusion index for different applications: red > 0.5% for SpO2, NIR > 1% for SpO2; \n",
        "\n",
        "> In wrist-based applications, PI values range from 0.02% for a very weak pulse to 2% for an extremely strong pulse. We can get around 0.5% from Floyer prototype\n",
        "\n",
        "3. PWV (pulse wave velocity); PTT (pulse transit time); PVC (premature ventricle contraction)\n",
        "\n"
      ]
    },
    {
      "cell_type": "markdown",
      "metadata": {
        "id": "0m6geQquq_VK"
      },
      "source": [
        "###AF"
      ]
    },
    {
      "cell_type": "markdown",
      "metadata": {
        "id": "m_MzqvMBeEVm"
      },
      "source": [
        "\r\n",
        "\r\n",
        "*   Domain Knowledge learning from Cardiologist\r\n",
        "\r\n",
        "\r\n",
        "    > Example 1: how often to trigger the PPG-based AF algorithm: because of power limitation, only needs to trigger the AF detection 1 min/hour\r\n",
        "\r\n",
        "\r\n",
        "    > Example 2: model should be tailored to have a low false-positive: reduce the burden of hospital; \r\n",
        "\r\n",
        "\r\n",
        "    > Example 3: Labeling of PPG data: use Lead-I ECG patch to collect the data; data will be processed first by a algorithm from the ECG provider and then verified by the clinical teams from Stanford\r\n",
        "\r\n",
        "\r\n",
        "*   How to recover signals from motion artifacts:\r\n",
        "\r\n",
        "\r\n",
        "    > If the final model is MA-tolerated: we can either use accelerometer with classic DSP algorithm such as SpaMA to reconstruct the PPG signal by removing the motion artifacts OR use CNN to denoise the PPG signal\r\n",
        "\r\n",
        "    > If the final model is MA-free: we can simply remove the PPG data with a lot of motion artifacts from ACC\r\n",
        "\r\n",
        "*   How to label PPG data\r\n",
        "*   How to save the data: \r\n",
        "\r\n",
        "    > save data every 30min and upload to a cloud database: MongoDB; In case the data collection is not successful during the middle of a day\r\n",
        "\r\n",
        "\r\n",
        "*   How to ensure patient compliance:\r\n",
        "\r\n",
        "\r\n",
        "    > Check the data everyday: write scripts to examine the data saved daily on the cloud platform: check signal quality or ratio of missing data\r\n",
        "\r\n",
        "\r\n",
        "    > APP indicator: PPG with low perfusion index meaning patient could falsely fit the hearing aid or the fitting turns to bad during the middle of the test\r\n",
        "\r\n",
        "\r\n",
        "*   Modeling\r\n",
        "\r\n",
        "\r\n",
        "    > Data preprocessing: \r\n",
        "        1. data argumentation (overlap data to create more samples); \r\n",
        "        2. resampling to overcome the imbalanced data; \r\n",
        "        3. spectrogram to trun the data into frequency domain\r\n",
        "\r\n",
        "\r\n",
        "    > model:\r\n",
        "        1. MobileNet, ResNet (draw the structure of each)\r\n",
        "\r\n",
        "\r\n",
        "\r\n",
        "*   Evaluation:\r\n",
        "\r\n",
        "\r\n",
        "    > Confusion matrix: precision-recall, F1 score, sensitivity (recall), specificity, TPR\r\n",
        "\r\n",
        "\r\n",
        "\r\n",
        "*   Visualization\r\n",
        "\r\n",
        "\r\n",
        "    > t-SNE\r\n",
        "\r\n",
        "\r\n",
        "    > Saliency map: derivetive of input to output\r\n",
        "\r\n",
        "\r\n",
        "    > Grad-CAM: \r\n",
        "    1. take the last spatial maps (the last layer before flatten);\r\n",
        "    2. calculate the gradient of each feature in each spatial map (this tells you how important each feature is to the final output), and sum them to give each spatial map a weight\r\n",
        "    3. aggregate all weighted - spatial maps\r\n",
        "    4. Resize the spatial maps to original image size (7x7 -> 128x128)\r\n",
        "    5. Overlap it to orginal image\r\n",
        "\r\n",
        "\r\n",
        "\r\n",
        "\r\n",
        "\r\n",
        "\r\n",
        "\r\n",
        "\r\n",
        "\r\n",
        "\r\n",
        "\r\n",
        "\r\n",
        "\r\n",
        "\r\n",
        "\r\n",
        "\r\n",
        "\r\n",
        "\r\n",
        "\r\n",
        "\r\n"
      ]
    },
    {
      "cell_type": "markdown",
      "metadata": {
        "id": "vJvtoDqUrB5G"
      },
      "source": [
        "###BP"
      ]
    },
    {
      "cell_type": "markdown",
      "metadata": {
        "id": "pC-qE4jVj2le"
      },
      "source": [
        "\r\n",
        "*   Source of data\r\n",
        "\r\n",
        "    *   MIMIC database: \r\n",
        "        1.   Database: 2.4TB WFDB, 10,000+ patients, 125Hz, 8 bit PPG, ABP data\r\n",
        "        2.   Signal processing pipeline: \r\n",
        "            *   PPG: remove small files -> remove files with flatline -> hampel filter remove outliers -> rescale -> bandpass filter \r\n",
        "\r\n",
        "            *   ABP: remove small files -> remove files with flatline -> hampel filter remove outliers -> beat segementation -> remove flat peak -> extact SBP and DBP groundtruth from peak and valleys\r\n",
        "    *   Proprietary data:\r\n",
        "        *   How to collect them: PPG sensor with blood pressure culf measurement\r\n",
        "\r\n",
        "\r\n",
        "\r\n",
        "*   How to validate the signal quality of PPG for BP:\r\n",
        "\r\n",
        "\r\n",
        "    *   PPG signal fundamentals for BP: \r\n",
        "        1. If the final use case is patient trigger the measurement and ECG is avaialble: you can use both ECG and PPG to leverage on the PTT\r\n",
        "        2. If the final use case is patient trigger the measurement and ECG is not avaialble: use processed PPG alone (raw, first, second derivative, spectrogram) hoping with a smaller model or raw PPG alone with some simple processing with a relatively larger model (use CNN to extract the features)\r\n",
        "        3. If the final use case is measure BP on the background: need accelerometer data as well)\r\n",
        "    *   Some general index: PI, SNR\r\n",
        "\r\n",
        "\r\n",
        "\r\n",
        "*   BP modeling\r\n",
        "\r\n",
        "\r\n",
        "\r\n",
        "\r\n",
        "\r\n",
        "\r\n",
        "\r\n"
      ]
    },
    {
      "cell_type": "markdown",
      "metadata": {
        "id": "H0QVRcsbrGWK"
      },
      "source": [
        "##5.Statistics"
      ]
    },
    {
      "cell_type": "markdown",
      "metadata": {
        "id": "HLEcWqAn9SvU"
      },
      "source": [
        "1. Specificity (TNR), Sensitivity (Recall, TPR), Precision(PPV), F1 score, FPR (1-Specificity)\n",
        "\n",
        "\n",
        "*   Use F1 socre when TN doesn't matter or having an imbalanced data\n",
        "\n",
        "\n",
        "2. ROC curve, precision-recall curve\n",
        "3. T-test, ANOVA test\n",
        "\n",
        "\n",
        "    > Assumptions of both t-test and Anova test\n",
        "        1. Normal distribution of samples \n",
        "        2. Variance within each samples is the same\n",
        "        3. Independent observations\n",
        "\n",
        "\n",
        "4. P-value, Z-score (how many std from null-hypothesis mean), t-score, F-score\n",
        "(https://www.khanacademy.org/math/statistics-probability/significance-tests-one-sample/more-significance-testing-videos/v/small-sample-hypothesis-test)\n",
        "5. Kai squared distribution:\n",
        "        1. test Condition: \n",
        "            a. expected counts should be larger than 5 for each outcome; \n",
        "            b. random sampling from a large population with normal distribution\n",
        "            c. sample size is less than 10% of population size, to make sure samples are independent from each other\n",
        "6. Confidence interval vs. Prediction interval\n",
        "\n",
        "*   CI = y +- t x std(y) x sqrt(1/n + (x - mu)^2 / ((n - 1) x std(x)^2) \n",
        "*   PI = y +- t x std(y) x sqrt(1 + 1/n + (x - mu)^2 / ((n - 1) x std(x)^2)\n",
        "\n",
        "    where std(y) = sqrt(sum(y - y_hat)^2/(n-2))\n",
        "\n",
        "7. Monte-Calo to calculate rectangular area\n",
        "\n",
        "\n",
        "\n"
      ]
    },
    {
      "cell_type": "markdown",
      "metadata": {
        "id": "Bbt89A4k7PKO"
      },
      "source": [
        "##6.Algorithm Skill"
      ]
    },
    {
      "cell_type": "markdown",
      "metadata": {
        "id": "fYMxJwr-8XKP"
      },
      "source": [
        "### Algorithm"
      ]
    },
    {
      "cell_type": "markdown",
      "metadata": {
        "id": "iloBWs8M7bXy"
      },
      "source": [
        "1. Two pointer (select five from each to practice)\n",
        "2. Sorting\n",
        "3. Greedy\n",
        "4. Binary Search\n",
        "5. Divide and Conquer\n",
        "6. Searching (DFS, BFS, backtracking)\n",
        "7. Dynamic Programming\n",
        "8. Math\n",
        "\n"
      ]
    },
    {
      "cell_type": "markdown",
      "metadata": {
        "id": "igtlWK-f8Z9M"
      },
      "source": [
        "### Data Structure"
      ]
    },
    {
      "cell_type": "markdown",
      "metadata": {
        "id": "ji-IEtDl8clt"
      },
      "source": [
        "\n",
        "1.   Linked list\n",
        "2.   Binary tree\n",
        "3.   Queue and Stacks\n",
        "4.   Hash Table\n",
        "5.   String\n",
        "6.   Matrix\n",
        "7.   Graph\n",
        "8.   Bits manipulation\n",
        "\n",
        "\n",
        "\n"
      ]
    },
    {
      "cell_type": "markdown",
      "metadata": {
        "id": "GVJ_pv6tXbF6"
      },
      "source": [
        "##7.Python packages"
      ]
    },
    {
      "cell_type": "markdown",
      "metadata": {
        "id": "kRIbrKV7dSw1"
      },
      "source": [
        "###Pandas"
      ]
    },
    {
      "cell_type": "code",
      "metadata": {
        "id": "N29CreoddUyq"
      },
      "source": [
        "#column names, rename column names, lowercase all columns\n",
        "df.columns\n",
        "df.rename(columns = {'abcd':'ab',\n",
        "                     'hello':'world'},\n",
        "          inplace = True)\n",
        "df.columns = [col.lower() for col in df]\n",
        "#first, last, and info of dataset\n",
        "df.head(5)\n",
        "df.tail(5)\n",
        "df.info()\n",
        "#shape,drop duplicate\n",
        "df.drop_duplicates(inplace=True,keep=first)\n",
        "df.shape\n",
        "#choose one column or one item\n",
        "df.iloc[:,2]\n",
        "df['column_name_1']\n",
        "#choose one row\n",
        "df.iloc[12]\n",
        "df.loc['row_name_2']\n",
        "#check NA value, drop NA rows or columns\n",
        "df.isnull().sum()\n",
        "df = df.dropna() #drop row\n",
        "df = df.dropna(axis=1) #drop column\n",
        "#some basic stats\n",
        "df.describe()\n",
        "df['column_name_1'].value_counts()\n",
        "df.corr()\n",
        "#conditions\n",
        "movies_df[\n",
        "    ((movies_df['year'] >= 2005) & (movies_df['year'] <= 2010))\n",
        "    & (movies_df['rating'] > 8.0)\n",
        "    & (movies_df['revenue_millions'] < movies_df['revenue_millions'].quantile(0.25))\n",
        "]\n",
        "#apply functions\n",
        "def rating_function(x):\n",
        "    if x >= 8.0:\n",
        "        return \"good\"\n",
        "    else:\n",
        "        return \"bad\"\n",
        "\n",
        "movies_df[\"rating_category\"] = movies_df[\"rating\"].apply(rating_function)\n",
        "#or\n",
        "movies_df[\"rating_category\"] = movies_df[\"rating\"].apply(lambda x: 'Good' if x >= 0.8 else 'bad')"
      ],
      "execution_count": null,
      "outputs": []
    },
    {
      "cell_type": "markdown",
      "metadata": {
        "id": "3-NRfzxYLnk_"
      },
      "source": [
        "###Matplotlib"
      ]
    },
    {
      "cell_type": "code",
      "metadata": {
        "id": "eUESsJ0PLqEs"
      },
      "source": [
        "import matplotlib.pyplot as plt"
      ],
      "execution_count": null,
      "outputs": []
    },
    {
      "cell_type": "code",
      "metadata": {
        "id": "pKjY3ANNLvB8"
      },
      "source": [
        "plt.rcParams.update({'font.size': 20, 'figure.figsize': (10, 8)})\n",
        "#by directly specify columns\n",
        "movies_df.plt(kind='scatter', x ='rating', y='revenue_millions', title='Revenue(millions) vs. Rating')\n",
        "#select specific column\n",
        "movies_df['rating'].plot(kind='hist', title='Rating')\n",
        "#boxplot\n",
        "movies_df.boxplot(column='revenue_millions', by='rating_catetory');"
      ],
      "execution_count": null,
      "outputs": []
    },
    {
      "cell_type": "markdown",
      "metadata": {
        "id": "13GpE9rMdd1W"
      },
      "source": [
        "##8.Techinical Screening Questions:"
      ]
    },
    {
      "cell_type": "markdown",
      "metadata": {
        "id": "TiF3IpbFdjiA"
      },
      "source": [
        "1. Introduce your current role/how you change from chemical background to data science/ML\n",
        "2. Introduce the experience on DSP: what filter you use/why IIR and what is the band pass cut-off frequency you select and why?\n",
        "3. Once you have a clean data, explain the model you built for AF/HR/BP?\n",
        "4. What if you have an unbalanced data and do you deal with it?\n",
        "5. How do you collaborate with clinical stuffs\n",
        "6. Coding: giving x = np.random.rand(100), build a window function to calculate the mean of 10 points, and function will return the same length as x\n",
        "\n",
        "\n",
        "    *   Solution: apply the moving average and for the last ten points, apply a gradually reduced window size"
      ]
    },
    {
      "cell_type": "markdown",
      "metadata": {
        "id": "1GabyoBLxKjD"
      },
      "source": [
        "#9. Onsite Interview Questions"
      ]
    },
    {
      "cell_type": "markdown",
      "metadata": {
        "id": "qKvHTng9xQYe"
      },
      "source": [
        "###Programming\r\n",
        "1. Write a function to calculate mean and variance of the data; add a new sample to exsiting mean and variance, calculate the new mean and variance (Variance = E(x^2) - (E(x))^2); what if the data cannot fit into to the memory?\r\n",
        "2. Give a = {'USA': 300, \"Canada\": 30, \"China\": 1500}, write a function to print the country name with the probability of its population ratio\r\n",
        "3. Group A and B are people with different heights, what algorithm can you think of to classify a new people into either group A or B? (KNN, time complexity, how to optimize the time complexity of your algorithm) what if A and B has different sample size; \r\n",
        "\r\n",
        "\r\n",
        "###Statistics\r\n",
        "1. T-test hypothesis formation;\r\n",
        "2. Give the power and calcuate the requried sample size\r\n",
        "3. Feature transform (transform non-sense numeric data into categorical data)\r\n",
        "4. How to end the clinical trial earlier if it is testing the efficacy of a new drug\r\n",
        "\r\n",
        "###Machine learning\r\n",
        "1. Describe the AF model; what is the input dimension; \r\n",
        "2. What is the most difficult part to delveop your model;\r\n",
        "3. How to train a model with imbalanced data; how to evaluate it;\r\n",
        "\r\n"
      ]
    },
    {
      "cell_type": "markdown",
      "metadata": {
        "id": "Y1CcSo2JxQOA"
      },
      "source": [
        ""
      ]
    },
    {
      "cell_type": "code",
      "metadata": {
        "id": "LHW4jVPAxO4G"
      },
      "source": [
        ""
      ],
      "execution_count": null,
      "outputs": []
    }
  ]
}